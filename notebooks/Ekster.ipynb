{
 "cells": [
  {
   "cell_type": "markdown",
   "id": "8091f71c",
   "metadata": {},
   "source": [
    "# Ekster\n",
    "\n",
    "Ekster is an AMUSE code designed to simulate star-forming regions, without needing very high mass resolution for the gas (approximately 0.1-1 MSun per gas particle).\n",
    "It combines hydrodynamics (using SPH) with gravity and (optional) stellar evolution, by default using the codes Phantom [https://phantomsph.bitbucket.io], PeTar [https://github.com/lwang-astro/PeTar] and SeBa [https://github.com/amusecode/SeBa].\n",
    "\n",
    "The original use for Ekster was to re-simulate a part of a gas-only galaxy simulation to the point where star clusters would form, and evolve these young clusters for a short time [https://ui.adsabs.harvard.edu/abs/2022MNRAS.509.6155R/abstract].\n",
    "\n",
    "Similar to other star-forming region simulation codes, Ekster creates sink particles from gas that is collapsing to form stars. What is different is that in Ekster these sinks are then converted into individual stars, which represent the stars born in proto-clusters. An initial mass function and initial spread of the stars is implied in this step.\n",
    "\n",
    "The gas and the stars are then integrated together in their respective codes via Bridge, optionally with an external (time-dependent) tidal field applied to both [https://ui.adsabs.harvard.edu/abs/2013MNRAS.436.3695R/abstract].\n",
    "\n",
    "Stellar feedback (ionisation and stellar winds) is under development."
   ]
  },
  {
   "cell_type": "markdown",
   "id": "ecfe70a9",
   "metadata": {},
   "source": [
    "## Installing Ekster and its prerequisites\n",
    "\n",
    "You may skip this step if you have already done this.\n",
    "\n",
    "If you are using the Developer installation of AMUSE, you will need to checkout the git repositories of Ekster and MASC, and copy (or symlink) the files to src/amuse/ext in the AMUSE repository."
   ]
  },
  {
   "cell_type": "code",
   "execution_count": null,
   "id": "d99c1126",
   "metadata": {},
   "outputs": [],
   "source": [
    "!pip install mpi4py amuse-framework amuse-phantom amuse-fi amuse-petar amuse-seba\n",
    "!pip install amuse-ekster amuse-masc"
   ]
  },
  {
   "cell_type": "markdown",
   "id": "a720a65f",
   "metadata": {},
   "source": [
    "## Using Ekster\n",
    "\n",
    "Currently, the interface differs from that of a 'regular' community code, since it was developed as a script initially. Future versions will have an interface in line with that of AMUSE community codes, but for now I explain how to use the current interface below."
   ]
  },
  {
   "cell_type": "code",
   "execution_count": null,
   "id": "3f48396a",
   "metadata": {},
   "outputs": [],
   "source": [
    "import time as clock\n",
    "import numpy as np\n",
    "# Please change this seed to something else at your liking\n",
    "np.random.seed(20221012)"
   ]
  },
  {
   "cell_type": "code",
   "execution_count": null,
   "id": "c103341f",
   "metadata": {},
   "outputs": [],
   "source": [
    "# Import standard AMUSE dependencies\n",
    "from amuse.units import units, nbody_system\n",
    "from amuse.ic.molecular_cloud import new_molecular_cloud\n",
    "from amuse.io import write_set_to_file"
   ]
  },
  {
   "cell_type": "code",
   "execution_count": null,
   "id": "113be107",
   "metadata": {},
   "outputs": [],
   "source": [
    "# Import main modules for Ekster...\n",
    "from amuse.ext.ekster import ClusterInPotential, Settings\n",
    "from amuse.ext.ekster import ekster_settings\n",
    "# ...and also some helper functions\n",
    "from amuse.ext.ekster.plotting_class import (\n",
    "    u_to_temperature, temperature_to_u,\n",
    "    gas_mean_molecular_weight,\n",
    ")"
   ]
  },
  {
   "cell_type": "code",
   "execution_count": null,
   "id": "47ec6a40",
   "metadata": {},
   "outputs": [],
   "source": [
    "# Settings are stored as properties of the Settings class, which is initialised with safe defaults:\n",
    "settings = Settings()\n",
    "\n",
    "print(\n",
    "    f\"For hydrodynamics, we use {settings.sph_code}. \"\n",
    "    f\"Stars are integrated using {settings.star_code}, \"\n",
    "    f\"and stellar evolution is handled by {settings.evo_code}.\"\n",
    ")\n",
    "print(\n",
    "    \"Feedback-related settings: \\n\"\n",
    "    f\"Phantom cooling (1 = on, 0 = off): {settings.icooling}\\n\"\n",
    "    f\"Phantom EOS (1 = isothermal, 2 = adiabatic): {settings.ieos}\\n\"\n",
    "    f\"Stellar masses evolve: {settings.evo_stars_lose_mass}\\n\"\n",
    "    f\"Stellar winds: {settings.wind_enabled}\\n\"\n",
    "    f\"Stellar wind type: {settings.wind_type}\\n\"\n",
    "    f\"Radiative feedback (under development): {settings.feedback_enabled}\\n\"\n",
    ")\n",
    "# print(dir(ekster_settings))"
   ]
  },
  {
   "cell_type": "code",
   "execution_count": null,
   "id": "1d42062d",
   "metadata": {},
   "outputs": [],
   "source": [
    "# If you want to run a simulation with an adiabatic EOS and cooling, run this cell.\n",
    "settings.icooling = 1\n",
    "settings.ieos = 2"
   ]
  },
  {
   "cell_type": "markdown",
   "id": "3aedd748",
   "metadata": {},
   "source": [
    "## Creating a star-forming region\n",
    "Once gas reaches a critical density, Ekster will check if the region is indeed collapsing.\n",
    "If this is the case, it will create a sink particle, which accretes all gas within a specified radius.\n",
    "The sink will then act as a star-forming region, creating stars within its radius (initially set to the same value as the accretion radius, but then shrinking to keep a constant density)."
   ]
  },
  {
   "cell_type": "code",
   "execution_count": null,
   "id": "ec877ff4",
   "metadata": {},
   "outputs": [],
   "source": [
    "print(\n",
    "    f\"Density threshold for forming sinks: {settings.density_threshold}\\n\"\n",
    "    f\"Accretion radius for sinks: {settings.minimum_sink_radius}\\n\"\n",
    "    # this setting's name is a legacy from the development phase\n",
    ")"
   ]
  },
  {
   "cell_type": "markdown",
   "id": "b97e6bcb",
   "metadata": {},
   "source": [
    "## Star formation method\n",
    "Ekster has two methods for forming stars from sinks: 'single' and 'grouped'. The 'single' method converts every sink into a reservoir for star formation, forming stars until the remaining mass is not sufficient for a new star.\n",
    "The 'grouped' method uses a set of nearby sinks of similar age as a group reservoir, combining the mass of these sinks to form new stars [https://ui.adsabs.harvard.edu/abs/2022MNRAS.510.2657L/abstract].\n",
    "\n",
    "This method is primarily useful when the mass of an individual sink would be lower than required to probe the IMF (which would result in sinks with remaining mass). If sinks start with ~250 MSun, the 'single' method is generally preferred. You can check if the 'grouped' method might be beneficial by comparing the mass left in sinks to the total mass in stars - if this is a high fraction, you might want to look into using the 'grouped' method.\n",
    "\n",
    "Currently Ekster assumes 100% of the mass accreted onto a sink is converted into stars, a future version may allow setting this efficiency rate (e.g. converting remaining mass back into gas, to be expelled)."
   ]
  },
  {
   "cell_type": "code",
   "execution_count": null,
   "id": "439c541a",
   "metadata": {},
   "outputs": [],
   "source": [
    "print(settings.star_formation_method)"
   ]
  },
  {
   "cell_type": "markdown",
   "id": "4ad285f5",
   "metadata": {},
   "source": [
    "## Generate a molecular cloud to start with\n",
    "\n",
    "You can play around with the parameters, but in order to form stars the cloud needs to collapse (following the Jeans criterion). Stars will start to form once the density of the gas reaches 10<sup>-18</sup> g/cm<sup>3</sup>."
   ]
  },
  {
   "cell_type": "code",
   "execution_count": null,
   "id": "2f1eae34",
   "metadata": {},
   "outputs": [],
   "source": [
    "gas_density = 1e-20 | units.g * units.cm**-3\n",
    "# Increasing 'volume_scaling' will give a larger cloud with similar properties - but it will run much slower!\n",
    "volume_scaling = 2\n",
    "number_of_gas_particles = volume_scaling**3 * 1000\n",
    "total_mass_of_gas_particles = number_of_gas_particles | units.MSun\n",
    "volume = total_mass_of_gas_particles / gas_density\n",
    "cloud_radius = volume_scaling * (volume / (units.pi * 4/3))**(1/3)\n",
    "\n",
    "converter_gas = nbody_system.nbody_to_si(total_mass_of_gas_particles, cloud_radius)\n",
    "gas = new_molecular_cloud(targetN=number_of_gas_particles, convert_nbody=converter_gas)\n",
    "gas.collection_attributes.timestamp = 0 | units.yr\n",
    "\n",
    "# The temperature of the gas is ignored in isothermal simulations (but still needs to be set), \n",
    "# in other simulations it will quickly adjust to an equilibrium temperature\n",
    "gas.u = temperature_to_u(30 | units.K)"
   ]
  },
  {
   "cell_type": "code",
   "execution_count": null,
   "id": "de8b76d1",
   "metadata": {},
   "outputs": [],
   "source": [
    "# We want to disable redirection, since it gives a lot of extra output\n",
    "# - which is great for debugging, but not ideal in a notebook...\n",
    "\n",
    "settings.code_redirection = \"null\"\n",
    "simulation = ClusterInPotential(\n",
    "    gas=gas,\n",
    "    settings=settings,\n",
    ")\n",
    "simulation.sync_from_gas_code()"
   ]
  },
  {
   "cell_type": "code",
   "execution_count": null,
   "id": "e581ea7e",
   "metadata": {},
   "outputs": [],
   "source": [
    "# Let's define a way to backup our simulation - it can take a while, \n",
    "# so we want to store any important steps on the way!\n",
    "\n",
    "def write_backup(model, step=0, settings=settings, run_prefix=\"MyEksterSimulation-\"):\n",
    "    if not model.gas_particles.is_empty():\n",
    "        settings.filename_gas = f\"{run_prefix}gas-{step:04d}.amuse\"\n",
    "    if not model.star_particles.is_empty():\n",
    "        settings.filename_stars = f\"{run_prefix}stars-{step:04d}.amuse\"\n",
    "    if not model.sink_particles.is_empty():\n",
    "        settings.filename_sinks = f\"{run_prefix}sinks-{step:04d}.amuse\"\n",
    "    settings.filename_random = \\\n",
    "        f\"{run_prefix}randomstate-{step:04d}.pkl\"\n",
    "    settings.step = step\n",
    "    settings.model_time = model.model_time\n",
    "    # Write the current settings to a file.\n",
    "    ekster_settings.write_config(\n",
    "        settings, f\"{run_prefix}resume-{step:04d}.ini\", \"resume\"\n",
    "    )\n",
    "    # Write the particle sets (gas, sinks, stars).\n",
    "    if not model.gas_particles.is_empty():\n",
    "        model.gas_particles.collection_attributes.timestamp = (\n",
    "            model.gas_code.model_time\n",
    "        )\n",
    "        write_set_to_file(\n",
    "            model.gas_particles,\n",
    "            settings.filename_gas,\n",
    "            append_to_file=False,\n",
    "            compression=\"gzip\",\n",
    "            close_file=True,\n",
    "        )\n",
    "    if not model.sink_particles.is_empty():\n",
    "        model.sink_particles.collection_attributes.timestamp = (\n",
    "            model.sink_code.model_time\n",
    "        )\n",
    "        write_set_to_file(\n",
    "            model.sink_particles,\n",
    "            settings.filename_sinks,\n",
    "            append_to_file=False,\n",
    "            compression=\"gzip\",\n",
    "            close_file=True,\n",
    "        )\n",
    "    if not model.star_particles.is_empty():\n",
    "        model.star_particles.collection_attributes.timestamp = (\n",
    "            model.star_code.model_time\n",
    "        )\n",
    "        write_set_to_file(\n",
    "            model.star_particles,\n",
    "            settings.filename_stars,\n",
    "            append_to_file=False,\n",
    "            compression=\"gzip\",\n",
    "            close_file=True,\n",
    "        )"
   ]
  },
  {
   "cell_type": "code",
   "execution_count": null,
   "id": "5f3ac336",
   "metadata": {},
   "outputs": [],
   "source": [
    "# It may be good to save a snapshot of our initial conditions at this point, at least to test if it works.\n",
    "# Make sure to give it an unique name - files won't be overwritten!\n",
    "model_name = \"MyEksterSimulationAdiabatic\"\n",
    "\n",
    "write_backup(simulation, step=0, settings=settings, run_prefix=model_name)"
   ]
  },
  {
   "cell_type": "code",
   "execution_count": null,
   "id": "7542fbe3",
   "metadata": {},
   "outputs": [],
   "source": [
    "# Let's now try to evolve for one timestep\n",
    "time_start = clock.time() | units.s\n",
    "simulation.evolve_model(simulation.timestep)\n",
    "step = 1\n",
    "time_end = clock.time() | units.s\n",
    "# and save a backup\n",
    "write_backup(simulation, step=step, settings=settings, run_prefix=model_name)\n",
    "\n",
    "step_time = simulation.timestep/(time_end-time_start)\n",
    "print(f\"One step took {(time_end-time_start).value_in(units.s):.2f} seconds - that's {step_time} x reality\")"
   ]
  },
  {
   "cell_type": "code",
   "execution_count": null,
   "id": "2770f411",
   "metadata": {},
   "outputs": [],
   "source": [
    "print(len(simulation.sink_particles))\n",
    "print(len(simulation.star_particles))\n",
    "print(simulation.gas_particles.density.max())"
   ]
  },
  {
   "cell_type": "markdown",
   "id": "4ca3fa3b",
   "metadata": {},
   "source": [
    "Let's now evolve the system until the first stars form.\n",
    "In an isothermal simulation, the timescale for this is similar to the dynamical timescale of the system."
   ]
  },
  {
   "cell_type": "code",
   "execution_count": null,
   "id": "bc985ff5",
   "metadata": {},
   "outputs": [],
   "source": [
    "simulation_time_dynamical = simulation.gas_particles.dynamical_timescale()\n",
    "print(f\"One dynamical time: {simulation_time_dynamical}\\n\")\n",
    "print(f\"Approximately {int(simulation_time_dynamical/simulation.timestep)} steps\")\n",
    "print(f\"This will take approximately {(simulation_time_dynamical/step_time).value_in(units.minute):.2f} minutes to run\")"
   ]
  },
  {
   "cell_type": "markdown",
   "id": "1800f205",
   "metadata": {},
   "source": [
    "If this takes too long, you might want to create a smaller system - or a denser one, so that it collapses sooner."
   ]
  },
  {
   "cell_type": "code",
   "execution_count": null,
   "id": "c03dc5d0",
   "metadata": {},
   "outputs": [],
   "source": [
    "time_start = clock.time() | units.s\n",
    "simulation_time_start = simulation.model_time\n",
    "simulation_step_start = step\n",
    "while simulation.sink_particles.is_empty():\n",
    "    simulation.evolve_model(simulation.model_time + simulation.timestep)\n",
    "    step += 1\n",
    "time_end = clock.time() | units.s\n",
    "simulation_time_end = simulation.model_time\n",
    "simulation_step_end = step\n",
    "\n",
    "time_firststars = simulation.model_time\n",
    "simulation_duration = time_end - time_start\n",
    "steps = simulation_step_end - simulation_step_start\n",
    "step_time = (time_end-time_start) / steps"
   ]
  },
  {
   "cell_type": "code",
   "execution_count": null,
   "id": "dd4b6ebc",
   "metadata": {},
   "outputs": [],
   "source": [
    "print(f\"The first stars form at {time_firststars} ({step} steps)\")\n",
    "print(f\"This took {simulation_duration.value_in(units.minute):.2f} minutes\")\n",
    "print(f\"An average step now takes {step_time.value_in(units.s):.2f} seconds\")\n",
    "\n",
    "# let's save a backup again\n",
    "write_backup(simulation, step=step, settings=settings, run_prefix=model_name)"
   ]
  },
  {
   "cell_type": "code",
   "execution_count": null,
   "id": "881fda90",
   "metadata": {},
   "outputs": [],
   "source": [
    "# We don't have any sinks or stars yet.\n",
    "print(len(simulation.sink_particles))\n",
    "print(len(simulation.star_particles))"
   ]
  },
  {
   "cell_type": "code",
   "execution_count": null,
   "id": "d50ec500",
   "metadata": {},
   "outputs": [],
   "source": [
    "print(f\"The stars have a total mass of {simulation.star_particles.total_mass()}\")\n",
    "print(f\"The sinks have a total mass of {simulation.sink_particles.total_mass()}\")"
   ]
  },
  {
   "cell_type": "code",
   "execution_count": null,
   "id": "6d356b4b",
   "metadata": {},
   "outputs": [],
   "source": [
    "# Let's make a plot\n",
    "from amuse.ext.ekster.plotting_class import plot_hydro_and_stars"
   ]
  },
  {
   "cell_type": "code",
   "execution_count": null,
   "id": "62f77d2c",
   "metadata": {},
   "outputs": [],
   "source": [
    "fig, ax = plot_hydro_and_stars(\n",
    "    simulation.model_time,\n",
    "    gas=simulation.gas_particles,\n",
    "    stars=simulation.star_particles,\n",
    "    sinks=simulation.sink_particles,\n",
    "    settings=settings,\n",
    "    return_figure=True,\n",
    ")"
   ]
  },
  {
   "cell_type": "code",
   "execution_count": null,
   "id": "ff11e345",
   "metadata": {},
   "outputs": [],
   "source": [
    "# Let's now evolve until we have a second sink.\n",
    "# Note that from this point, we are evolving both the SPH and gravity codes.\n",
    "# The code will run slower as a result.\n",
    "time_start = clock.time() | units.s\n",
    "simulation_time_start = simulation.model_time\n",
    "simulation_step_start = step\n",
    "while len(simulation.sink_particles) < 2:\n",
    "    simulation.evolve_model(simulation.model_time + simulation.timestep)\n",
    "    step += 1\n",
    "time_end = clock.time() | units.s\n",
    "simulation_time_end = simulation.model_time\n",
    "simulation_step_end = step\n",
    "\n",
    "simulation_duration = time_end - time_start\n",
    "step_time = simulation_duration / (time_end-time_start)\n",
    "time_secondstars = simulation.model_time\n",
    "\n",
    "steps = simulation_step_end - simulation_step_start\n",
    "step_time = (time_end-time_start) / steps\n",
    "# let's save a backup again\n",
    "write_backup(simulation, step=step, settings=settings, run_prefix=model_name)"
   ]
  },
  {
   "cell_type": "code",
   "execution_count": null,
   "id": "58dc1920",
   "metadata": {},
   "outputs": [],
   "source": [
    "print(f\"The second group of stars form at {time_secondstars}\")\n",
    "print(f\"It took {simulation_duration.value_in(units.minute):.2f} minutes\")\n",
    "print(f\"In this phase we are taking {step_time.value_in(units.s):.2f} seconds per step\")"
   ]
  },
  {
   "cell_type": "code",
   "execution_count": null,
   "id": "e15ec5de",
   "metadata": {},
   "outputs": [],
   "source": [
    "# Make sure all codes are stopped\n",
    "simulation.stop()\n",
    "simulation.gas_code.code.stop()"
   ]
  },
  {
   "cell_type": "markdown",
   "id": "60b62df4",
   "metadata": {},
   "source": [
    "## Visualise it with Fresco!"
   ]
  },
  {
   "cell_type": "code",
   "execution_count": null,
   "id": "9a330a40",
   "metadata": {},
   "outputs": [],
   "source": [
    "!pip install --upgrade amuse-fresco"
   ]
  },
  {
   "cell_type": "code",
   "execution_count": null,
   "id": "328be8ff",
   "metadata": {},
   "outputs": [],
   "source": [
    "# Import Fresco and matplotlib.\n",
    "from amuse.plot.fresco import make_fresco_image\n",
    "import matplotlib.pyplot as plt"
   ]
  },
  {
   "cell_type": "code",
   "execution_count": null,
   "id": "e9ad482d",
   "metadata": {},
   "outputs": [],
   "source": [
    "image_width = 5 | units.pc\n",
    "image_width_in_pc = image_width.value_in(units.pc)\n",
    "simulation.gas_particles.radius = simulation.gas_particles.h_smooth\n",
    "fresco_image, vmax = make_fresco_image(\n",
    "    stars=simulation.star_particles,\n",
    "    gas=simulation.gas_particles,\n",
    "    converter=simulation.converter,\n",
    "    image_width=image_width,\n",
    "    return_vmax=True,\n",
    "    extinction=True,\n",
    ")\n",
    "extent = [-image_width_in_pc/2, image_width_in_pc/2, -image_width_in_pc/2, image_width_in_pc/2]\n",
    "plt.imshow(fresco_image, extent=extent, origin=\"lower\")"
   ]
  },
  {
   "cell_type": "markdown",
   "id": "49bc9e82",
   "metadata": {},
   "source": [
    "Ekster also has support for Fresco built in - just use the same plotting strategy as before, but now pass the keyword \"use_fresco\" for a Fresco blend-in to the original image (0 = no Fresco, 1 = only Fresco)"
   ]
  },
  {
   "cell_type": "code",
   "execution_count": null,
   "id": "1b864df0",
   "metadata": {},
   "outputs": [],
   "source": [
    "fig, ax = plot_hydro_and_stars(\n",
    "    simulation.model_time,\n",
    "    gas=simulation.gas_particles,\n",
    "    stars=simulation.star_particles,\n",
    "    sinks=simulation.sink_particles,\n",
    "    settings=settings,\n",
    "    return_figure=True,\n",
    "    use_fresco=1.0,\n",
    ")"
   ]
  },
  {
   "cell_type": "code",
   "execution_count": null,
   "id": "7f4d08eb",
   "metadata": {},
   "outputs": [],
   "source": []
  }
 ],
 "metadata": {
  "kernelspec": {
   "display_name": "Python 3 (ipykernel)",
   "language": "python",
   "name": "python3"
  },
  "language_info": {
   "codemirror_mode": {
    "name": "ipython",
    "version": 3
   },
   "file_extension": ".py",
   "mimetype": "text/x-python",
   "name": "python",
   "nbconvert_exporter": "python",
   "pygments_lexer": "ipython3",
   "version": "3.10.7"
  }
 },
 "nbformat": 4,
 "nbformat_minor": 5
}
