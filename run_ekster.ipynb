{
 "cells": [
  {
   "cell_type": "code",
   "execution_count": null,
   "metadata": {},
   "outputs": [],
   "source": [
    "%matplotlib inline"
   ]
  },
  {
   "cell_type": "code",
   "execution_count": null,
   "metadata": {},
   "outputs": [],
   "source": [
    "%config InlineBackend.figure_format='retina'\n",
    "import matplotlib.pyplot as plt"
   ]
  },
  {
   "cell_type": "code",
   "execution_count": null,
   "metadata": {},
   "outputs": [],
   "source": [
    "from embedded_star_cluster_class import main"
   ]
  },
  {
   "cell_type": "code",
   "execution_count": null,
   "metadata": {},
   "outputs": [],
   "source": [
    "def new_argument_parser():\n",
    "    \"Parse command line arguments\"\n",
    "    import argparse\n",
    "    parser = argparse.ArgumentParser()\n",
    "    parser.add_argument(\n",
    "        '-s',\n",
    "        dest='starsfilename',\n",
    "        default=None,\n",
    "        help='file containing stars (optional) []',\n",
    "    )\n",
    "    parser.add_argument(\n",
    "        '-i',\n",
    "        dest='sinksfilename',\n",
    "        default=None,\n",
    "        help='file containing sinks (optional) []',\n",
    "    )\n",
    "    parser.add_argument(\n",
    "        '-g',\n",
    "        dest='gasfilename',\n",
    "        default=None,\n",
    "        help='file containing gas (optional) []',\n",
    "    )\n",
    "    parser.add_argument(\n",
    "        '-r',\n",
    "        dest='randomfilename',\n",
    "        default=None,\n",
    "        help='file containing random state (optional) []',\n",
    "    )\n",
    "    parser.add_argument(\n",
    "        '-d',\n",
    "        dest='rundir',\n",
    "        default=\"./\",\n",
    "        help='directory to store run in (optional) [./]',\n",
    "    )\n",
    "    return parser.parse_args([])\n",
    "\n",
    "args = new_argument_parser()"
   ]
  },
  {
   "cell_type": "code",
   "execution_count": null,
   "metadata": {},
   "outputs": [],
   "source": [
    "args.gasfilename = \"/Users/srieder/Data/ICs/fromTVT_85.ascii.amuse\"\n",
    "args.rundir = \"./runs/test20200422-85-a-isothermal\""
   ]
  },
  {
   "cell_type": "code",
   "execution_count": null,
   "metadata": {},
   "outputs": [],
   "source": [
    "model = main(args, nsteps=120)"
   ]
  },
  {
   "cell_type": "code",
   "execution_count": null,
   "metadata": {},
   "outputs": [],
   "source": [
    "print(model.gas_particles.density.max())"
   ]
  },
  {
   "cell_type": "code",
   "execution_count": null,
   "metadata": {},
   "outputs": [],
   "source": [
    "model.gas_code.stop()"
   ]
  }
 ],
 "metadata": {
  "kernelspec": {
   "display_name": "Python 3",
   "language": "python",
   "name": "python3"
  },
  "language_info": {
   "codemirror_mode": {
    "name": "ipython",
    "version": 3
   },
   "file_extension": ".py",
   "mimetype": "text/x-python",
   "name": "python",
   "nbconvert_exporter": "python",
   "pygments_lexer": "ipython3",
   "version": "3.8.2"
  }
 },
 "nbformat": 4,
 "nbformat_minor": 4
}
